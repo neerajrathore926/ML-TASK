{
  "nbformat": 4,
  "nbformat_minor": 0,
  "metadata": {
    "colab": {
      "name": "web scrape with nlp.ipynb",
      "version": "0.3.2",
      "provenance": [],
      "include_colab_link": true
    },
    "kernelspec": {
      "name": "python3",
      "display_name": "Python 3"
    }
  },
  "cells": [
    {
      "cell_type": "markdown",
      "metadata": {
        "id": "view-in-github",
        "colab_type": "text"
      },
      "source": [
        "<a href=\"https://colab.research.google.com/github/neerajrathore926/ML-TASK/blob/master/web_scrape_with_nlp.ipynb\" target=\"_parent\"><img src=\"https://colab.research.google.com/assets/colab-badge.svg\" alt=\"Open In Colab\"/></a>"
      ]
    },
    {
      "cell_type": "code",
      "metadata": {
        "id": "N9mX0gI2-ZlK",
        "colab_type": "code",
        "colab": {}
      },
      "source": [
        "import requests"
      ],
      "execution_count": 0,
      "outputs": []
    },
    {
      "cell_type": "code",
      "metadata": {
        "id": "YmjwzyCu-qBK",
        "colab_type": "code",
        "colab": {}
      },
      "source": [
        "# acessing web site from url \n",
        "webdata=requests.get('https://php.net/')"
      ],
      "execution_count": 0,
      "outputs": []
    },
    {
      "cell_type": "code",
      "metadata": {
        "id": "k1izjfPu_ASs",
        "colab_type": "code",
        "colab": {
          "base_uri": "https://localhost:8080/",
          "height": 34
        },
        "outputId": "5e7f1999-10e4-4b3c-e22c-7bcb7c994c18"
      },
      "source": [
        "webdata # response code of http protocol\n",
        "#where 200 means url is ok\n",
        "#404 means url is not found\n",
        "# 505 means server is not permitting for web sercaping \n",
        "\n"
      ],
      "execution_count": 16,
      "outputs": [
        {
          "output_type": "execute_result",
          "data": {
            "text/plain": [
              "<Response [200]>"
            ]
          },
          "metadata": {
            "tags": []
          },
          "execution_count": 16
        }
      ]
    },
    {
      "cell_type": "code",
      "metadata": {
        "id": "ym-OtNps_gOv",
        "colab_type": "code",
        "colab": {}
      },
      "source": [
        "# now get actual data of any website \n",
        "htmldata=webdata.text"
      ],
      "execution_count": 0,
      "outputs": []
    },
    {
      "cell_type": "code",
      "metadata": {
        "id": "uAmL6S4n_mKt",
        "colab_type": "code",
        "colab": {}
      },
      "source": [
        "#htmldata"
      ],
      "execution_count": 0,
      "outputs": []
    },
    {
      "cell_type": "code",
      "metadata": {
        "id": "AW9uYasfABAZ",
        "colab_type": "code",
        "colab": {}
      },
      "source": [
        "from bs4 import BeautifulSoup"
      ],
      "execution_count": 0,
      "outputs": []
    },
    {
      "cell_type": "code",
      "metadata": {
        "id": "NeKUp3nyGpir",
        "colab_type": "code",
        "colab": {}
      },
      "source": [
        "soup=BeautifulSoup(htmldata,'html5lib')  # html_data, parser"
      ],
      "execution_count": 0,
      "outputs": []
    },
    {
      "cell_type": "code",
      "metadata": {
        "id": "XDSH6K3vG0nC",
        "colab_type": "code",
        "colab": {
          "base_uri": "https://localhost:8080/",
          "height": 34
        },
        "outputId": "c8742757-9ca0-4b42-a328-6612769c5d8f"
      },
      "source": [
        "type(soup)"
      ],
      "execution_count": 26,
      "outputs": [
        {
          "output_type": "execute_result",
          "data": {
            "text/plain": [
              "bs4.BeautifulSoup"
            ]
          },
          "metadata": {
            "tags": []
          },
          "execution_count": 26
        }
      ]
    },
    {
      "cell_type": "code",
      "metadata": {
        "id": "QIllh_XjG-cd",
        "colab_type": "code",
        "colab": {}
      },
      "source": [
        "#finding all data\n",
        "clean_data=soup.get_text()"
      ],
      "execution_count": 0,
      "outputs": []
    },
    {
      "cell_type": "code",
      "metadata": {
        "id": "FkB85HgvHQXe",
        "colab_type": "code",
        "colab": {}
      },
      "source": [
        "#print(clean_data)\n",
        "#saving data permemtaly \n",
        "#with open('mywebdata.txt','w+') as f:\n",
        " #  f.write(clean_data)"
      ],
      "execution_count": 0,
      "outputs": []
    },
    {
      "cell_type": "code",
      "metadata": {
        "id": "fak7bFHcHXs7",
        "colab_type": "code",
        "colab": {}
      },
      "source": [
        "#reading from file \n",
        "f=open('mywebdata.txt','r')\n",
        "mydata=f.read()\n",
        "f.close()"
      ],
      "execution_count": 0,
      "outputs": []
    },
    {
      "cell_type": "code",
      "metadata": {
        "id": "YBcxhbVmIoyE",
        "colab_type": "code",
        "colab": {
          "base_uri": "https://localhost:8080/",
          "height": 34
        },
        "outputId": "0220d7df-5f85-4a09-9cdf-1b2a62479bf4"
      },
      "source": [
        "type(mydata)"
      ],
      "execution_count": 35,
      "outputs": [
        {
          "output_type": "execute_result",
          "data": {
            "text/plain": [
              "str"
            ]
          },
          "metadata": {
            "tags": []
          },
          "execution_count": 35
        }
      ]
    },
    {
      "cell_type": "code",
      "metadata": {
        "id": "6ukKMWszI2D7",
        "colab_type": "code",
        "colab": {}
      },
      "source": [
        "# split \n",
        "#mydata.split() # split all string data by /n"
      ],
      "execution_count": 0,
      "outputs": []
    },
    {
      "cell_type": "code",
      "metadata": {
        "id": "sgj1ZnJvI83B",
        "colab_type": "code",
        "colab": {
          "base_uri": "https://localhost:8080/",
          "height": 34
        },
        "outputId": "9033853a-0e7e-4e17-a579-e10d2fb75dac"
      },
      "source": [
        "#split\n",
        "'''\n",
        "import time \n",
        "for i in mydata.split():\n",
        "   print(i)\n",
        "   time.sleep(1)\n",
        "   '''"
      ],
      "execution_count": 44,
      "outputs": [
        {
          "output_type": "execute_result",
          "data": {
            "text/plain": [
              "'\\nimport time \\nfor i in mydata.split():\\n   print(i)\\n   time.sleep(1)\\n   '"
            ]
          },
          "metadata": {
            "tags": []
          },
          "execution_count": 44
        }
      ]
    },
    {
      "cell_type": "code",
      "metadata": {
        "id": "G0QsKcT2JZrS",
        "colab_type": "code",
        "colab": {}
      },
      "source": [
        "newdata1=[i for i in mydata.split()]\n"
      ],
      "execution_count": 0,
      "outputs": []
    },
    {
      "cell_type": "code",
      "metadata": {
        "id": "vcZWjcH_KD8M",
        "colab_type": "code",
        "colab": {
          "base_uri": "https://localhost:8080/",
          "height": 34
        },
        "outputId": "33832801-7126-414a-aa04-18db072ed5dd"
      },
      "source": [
        "# NLTK graphs \n",
        "import matplotlib.pyplot as plt\n",
        "import nltk\n",
        "\n",
        "%matplotlib inline # incase matplotlib is not supporting by deafult with pandas or nltk\n",
        "# to rep;laced plt,=.show from ant platform"
      ],
      "execution_count": 70,
      "outputs": [
        {
          "output_type": "stream",
          "text": [
            "UsageError: unrecognized arguments: # incase matplotlib is not supporting by deafult with pandas or nltk\n"
          ],
          "name": "stderr"
        }
      ]
    },
    {
      "cell_type": "code",
      "metadata": {
        "id": "IWz75NeVKRhn",
        "colab_type": "code",
        "colab": {
          "base_uri": "https://localhost:8080/",
          "height": 34
        },
        "outputId": "133857dd-1414-4da3-bbac-797bcbc7395c"
      },
      "source": [
        "[i for i in dir(nltk) if 'Freq' in i] # this will plot data for"
      ],
      "execution_count": 71,
      "outputs": [
        {
          "output_type": "execute_result",
          "data": {
            "text/plain": [
              "['ConditionalFreqDist', 'FreqDist']"
            ]
          },
          "metadata": {
            "tags": []
          },
          "execution_count": 71
        }
      ]
    },
    {
      "cell_type": "code",
      "metadata": {
        "id": "mlBLzWz3KZEw",
        "colab_type": "code",
        "colab": {}
      },
      "source": [
        "nlpdata=nltk.FreqDist(newdata1)"
      ],
      "execution_count": 0,
      "outputs": []
    },
    {
      "cell_type": "code",
      "metadata": {
        "id": "GVK9-QZhKwB7",
        "colab_type": "code",
        "colab": {
          "base_uri": "https://localhost:8080/",
          "height": 326
        },
        "outputId": "304884ac-2ac9-4e0e-fb92-efa9f12d5879"
      },
      "source": [
        "nlpdata.plot(20)  # top 20 words"
      ],
      "execution_count": 73,
      "outputs": [
        {
          "output_type": "display_data",
          "data": {
            "image/png": "[encoded data removed]",
            "text/plain": [
              "<Figure size 432x288 with 1 Axes>"
            ]
          },
          "metadata": {
            "tags": []
          }
        }
      ]
    },
    {
      "cell_type": "code",
      "metadata": {
        "id": "OI96PmcSK4g2",
        "colab_type": "code",
        "colab": {}
      },
      "source": [
        "# we can remove stopwords from new data1 then plot the grap \n",
        "from nltk.corpus import stopwords"
      ],
      "execution_count": 0,
      "outputs": []
    },
    {
      "cell_type": "code",
      "metadata": {
        "id": "0z8qBvEXLmPW",
        "colab_type": "code",
        "colab": {}
      },
      "source": [
        "#remoivng stop words \n",
        "removedata=[ i for i in newdata1 if i.lower()  not in stopwords.words('english')]"
      ],
      "execution_count": 0,
      "outputs": []
    },
    {
      "cell_type": "code",
      "metadata": {
        "id": "4PK8vwK7L6mD",
        "colab_type": "code",
        "colab": {}
      },
      "source": [
        "#apply nltk frediskt\n",
        "nlpremove=nltk.FreqDist(removedata)"
      ],
      "execution_count": 0,
      "outputs": []
    },
    {
      "cell_type": "code",
      "metadata": {
        "id": "7i6Qs90iL_-Q",
        "colab_type": "code",
        "colab": {
          "base_uri": "https://localhost:8080/",
          "height": 310
        },
        "outputId": "0988f16d-80ae-40cf-cde7-2ea2bab93d6f"
      },
      "source": [
        "nlpremove.plot(4)"
      ],
      "execution_count": 77,
      "outputs": [
        {
          "output_type": "display_data",
          "data": {
            "image/png": "[encoded data removed]",
            "text/plain": [
              "<Figure size 432x288 with 1 Axes>"
            ]
          },
          "metadata": {
            "tags": []
          }
        }
      ]
    },
    {
      "cell_type": "code",
      "metadata": {
        "id": "ZMTNkCpJMiqs",
        "colab_type": "code",
        "colab": {}
      },
      "source": [
        ""
      ],
      "execution_count": 0,
      "outputs": []
    }
  ]
}