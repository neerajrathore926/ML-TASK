{
  "nbformat": 4,
  "nbformat_minor": 0,
  "metadata": {
    "colab": {
      "name": "tweepy.ipynb",
      "version": "0.3.2",
      "provenance": [],
      "include_colab_link": true
    },
    "kernelspec": {
      "name": "python3",
      "display_name": "Python 3"
    }
  },
  "cells": [
    {
      "cell_type": "markdown",
      "metadata": {
        "id": "view-in-github",
        "colab_type": "text"
      },
      "source": [
        "<a href=\"https://colab.research.google.com/github/neerajrathore926/ML-TASK/blob/master/tweepy.ipynb\" target=\"_parent\"><img src=\"https://colab.research.google.com/assets/colab-badge.svg\" alt=\"Open In Colab\"/></a>"
      ]
    },
    {
      "cell_type": "code",
      "metadata": {
        "id": "gAOYUPP6LVg8",
        "colab_type": "code",
        "colab": {}
      },
      "source": [
        "import tweepy\n",
        "import matplotlib.pyplot as plt\n",
        "import time\n",
        "from textblob import TextBlob"
      ],
      "execution_count": 0,
      "outputs": []
    },
    {
      "cell_type": "code",
      "metadata": {
        "id": "9_uwNEnoLZfA",
        "colab_type": "code",
        "colab": {}
      },
      "source": [
        "#all 4 authntiction keys to acess twitter aAPI\n",
        "#to  connect as oath handler or jump server / reverse proxy server\n",
        "consumer_keys='##############################'\n",
        "consumer_sec='###############################'\n",
        "\n",
        "#from proxy server we need to connect to web server of twitter \n",
        "acess_token='#####################'\n",
        "acess_sec='#####################3'\n"
      ],
      "execution_count": 0,
      "outputs": []
    },
    {
      "cell_type": "code",
      "metadata": {
        "id": "NSN0DN2JSA2S",
        "colab_type": "code",
        "colab": {}
      },
      "source": [
        "#tweepy explore..\n",
        "#connecting to jump server of twiter\n",
        "auth=tweepy.OAuthHandler(consumer_key,consumer_sec)"
      ],
      "execution_count": 0,
      "outputs": []
    },
    {
      "cell_type": "code",
      "metadata": {
        "id": "FrbNi3xrO4xr",
        "colab_type": "code",
        "colab": {}
      },
      "source": [
        "\n",
        "auth.set_acecess_token(access_token,access_sec)"
      ],
      "execution_count": 0,
      "outputs": []
    },
    {
      "cell_type": "code",
      "metadata": {
        "id": "VZ-fIuxTPTAQ",
        "colab_type": "code",
        "colab": {}
      },
      "source": [
        "#now we can connect to APi sotage server of twitter\n",
        "api_connect=tweepy.API(auth)"
      ],
      "execution_count": 0,
      "outputs": []
    },
    {
      "cell_type": "code",
      "metadata": {
        "id": "Ds0zZBcRQvrV",
        "colab_type": "code",
        "colab": {}
      },
      "source": [
        "#now you can search any topic on twitet]er\n",
        "tweet_data=api_connect.search('cricket',count=10)"
      ],
      "execution_count": 0,
      "outputs": []
    },
    {
      "cell_type": "code",
      "metadata": {
        "id": "mMDGs-UVQWg5",
        "colab_type": "code",
        "colab": {}
      },
      "source": [
        "#printin by line by line \n",
        "for tweet in tweet_data:\n",
        "  #print(tweet.text)\n",
        "  analysis=TextBlob(tweet.text) #here it will apply NLP\n",
        "  print(analysis.sentiment)\n",
        "  #now checking ploarity i=only\n",
        "  if analysis.sentiment.polarity > 0:\n",
        "    print(\"positive\")\n",
        "    pos=pos+1\n",
        "  elif analysis.sentiment.ploarity = 0:\n",
        "    print(\"neutral\")\n",
        "    neu=neu+1\n",
        "  else :\n",
        "    print(\"negative\")\n",
        "    "
      ],
      "execution_count": 0,
      "outputs": []
    }
  ]
} 
